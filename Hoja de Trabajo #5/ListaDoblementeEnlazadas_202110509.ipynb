{
  "nbformat": 4,
  "nbformat_minor": 0,
  "metadata": {
    "colab": {
      "provenance": []
    },
    "kernelspec": {
      "name": "python3",
      "display_name": "Python 3"
    },
    "language_info": {
      "name": "python"
    }
  },
  "cells": [
    {
      "cell_type": "markdown",
      "source": [
        "# Definición de la clase receta\n"
      ],
      "metadata": {
        "id": "PGhKxZ-1pLg4"
      }
    },
    {
      "cell_type": "code",
      "source": [
        "class receta:\n",
        "    #construir constructor\n",
        "    def __init__(self,  paciente, fecha_nac, doctor, colegiado, fecha_cita, hora_cita, tipo_consulta, tratamiento):\n",
        "        self.paciente = paciente\n",
        "        self.fecha_nac = fecha_nac\n",
        "        self.doctor = doctor\n",
        "        self.colegiado = colegiado\n",
        "        self.fecha_cita = fecha_cita\n",
        "        self.hora_cita = hora_cita\n",
        "        self.tipo_consulta = tipo_consulta\n",
        "        self.tratamiento = tratamiento"
      ],
      "metadata": {
        "id": "e-VrBxWcpPu4"
      },
      "execution_count": 25,
      "outputs": []
    },
    {
      "cell_type": "markdown",
      "source": [
        "# Definicion de la clase nodo "
      ],
      "metadata": {
        "id": "PBWzSt2hpSyY"
      }
    },
    {
      "cell_type": "code",
      "source": [
        "class nodo:\n",
        "  def __init__(self, receta=None, siguiente = None, anterior = None):\n",
        "    self.receta = receta\n",
        "    self.siguiente = siguiente\n",
        "    self.anterior = anterior"
      ],
      "metadata": {
        "id": "uO50Wa3bpWO3"
      },
      "execution_count": 26,
      "outputs": []
    },
    {
      "cell_type": "markdown",
      "source": [
        "Definicion de la clase lista doble"
      ],
      "metadata": {
        "id": "Ig-GZM85shfh"
      }
    },
    {
      "cell_type": "code",
      "source": [
        "class lista_doble:\n",
        "  def __init__(self):\n",
        "    self.primero= None\n",
        "\n",
        "  def insertar(self, receta):\n",
        "    if self.primero is None:\n",
        "      self.primero = nodo(receta = receta)\n",
        "    else:\n",
        "      actual = nodo(receta = receta, siguiente = self.primero)\n",
        "      self.primero.anterior = actual\n",
        "      self.primero = actual\n",
        "\n",
        "  def recorrer(self):\n",
        "    if self.primero is None:\n",
        "      return\n",
        "    actual = self.primero\n",
        "    print(\"Paciente: \", actual.receta.paciente, \n",
        "          \"| Fecha de nacimiento: \", actual.receta.fecha_nac, \n",
        "          \"| Medico: \", actual.receta.doctor, \n",
        "          \"| Colegiado: \", actual.receta.colegiado, \n",
        "          \"| Fecha de la cita: \", actual.receta.fecha_cita, \n",
        "          \"| Hora de la cita: \", actual.receta.hora_cita, \n",
        "          \"| Tipo de consulta: \", actual.receta.tipo_consulta, \n",
        "          \"| Tratamiento: \", actual.receta.tratamiento, \"|\")\n",
        "    while actual.siguiente:\n",
        "      actual = actual.siguiente\n",
        "      print(\"Paciente: \", actual.receta.paciente, \n",
        "          \"| Fecha de nacimiento: \", actual.receta.fecha_nac, \n",
        "          \"| Medico: \", actual.receta.doctor, \n",
        "          \"| Colegiado: \", actual.receta.colegiado, \n",
        "          \"| Fecha de la cita: \", actual.receta.fecha_cita, \n",
        "          \"| Hora de la cita: \", actual.receta.hora_cita, \n",
        "          \"| Tipo de consulta: \", actual.receta.tipo_consulta, \n",
        "          \"| Tratamiento: \", actual.receta.tratamiento, \"|\")\n",
        "\n",
        "  def eliminar(self, colegiado, fecha_cita, hora_cita):\n",
        "    actual = self.primero\n",
        "    while actual:\n",
        "      if actual.receta.colegiado == colegiado and actual.receta.fecha_cita == fecha_cita and actual.receta.hora_cita == hora_cita:\n",
        "        if actual.anterior:\n",
        "          if actual.siguiente:\n",
        "            actual.anterior.siguiente = actual.siguiente\n",
        "            actual.siguiente.anterior = actual.anterior\n",
        "          else:\n",
        "            actual.anterior.siguiente = None\n",
        "            actual.anterior = None\n",
        "        else:\n",
        "          if actual.siguiente:\n",
        "            self.primero = actual.siguiente \n",
        "            actual.siguiente.anterior = None\n",
        "          else:\n",
        "            self.primero = None\n",
        "        return True\n",
        "      else:\n",
        "        actual = actual.siguiente\n",
        "    return False\n",
        "\n",
        "  #MODIFICAR LA FECHA Y HORA DE LA CITA\n",
        "  def modificar(self, nombre_paciente, fecha_cita, hora_cita):\n",
        "    actual = self.primero\n",
        "    while actual:\n",
        "      if actual.receta.paciente == nombre_paciente:\n",
        "        actual.receta.fecha_cita = fecha_cita\n",
        "        actual.receta.hora_cita = hora_cita\n",
        "        return True\n",
        "      else:\n",
        "        actual = actual.siguiente\n",
        "    return False\n"
      ],
      "metadata": {
        "id": "E0SqS6ebsjO4"
      },
      "execution_count": 27,
      "outputs": []
    },
    {
      "cell_type": "markdown",
      "source": [
        "Creacion de objetos receta\n"
      ],
      "metadata": {
        "id": "09f5e_RduXhS"
      }
    },
    {
      "cell_type": "code",
      "source": [
        "r1 = receta(\"Gerson Lopez\", \"03-10-1990\", \"melvin ortiz\", 20156, \n",
        "\"16-01-2023\", \"11:30\", \"medicina general\", \"2 pildoras de acetaminofen cada 6 horas\")\n",
        "r2 = receta(\"karen\", \"03-10-1990\", \"melvin ortiz\", 8567, \n",
        "\"19-01-2023\", \"09:30\", \"medicina general\", \"2 pildoras de acetaminofen cada 6 horas\")\n",
        "r3 = receta(\"Luis\", \"03-10-1990\", \"melvin ortiz\", 20157, \n",
        "\"20-01-2023\", \"10:30\", \"medicina general\", \"2 pildoras de acetaminofen cada 6 horas\")"
      ],
      "metadata": {
        "id": "I6MR5546ucr5"
      },
      "execution_count": 28,
      "outputs": []
    },
    {
      "cell_type": "markdown",
      "source": [
        "#Inserción"
      ],
      "metadata": {
        "id": "poTL_wu3ukW5"
      }
    },
    {
      "cell_type": "code",
      "source": [
        "lista_d = lista_doble()\n",
        "lista_d.insertar(r1)\n",
        "lista_d.insertar(r2)\n",
        "lista_d.insertar(r3)"
      ],
      "metadata": {
        "id": "e1ylpzVmumOB"
      },
      "execution_count": 38,
      "outputs": []
    },
    {
      "cell_type": "markdown",
      "source": [
        "# Recorrer la lista"
      ],
      "metadata": {
        "id": "CFmr-Um_0lq7"
      }
    },
    {
      "cell_type": "code",
      "source": [
        "lista_d.recorrer()"
      ],
      "metadata": {
        "colab": {
          "base_uri": "https://localhost:8080/"
        },
        "id": "QXbW3LEV0nyb",
        "outputId": "ee1fbe0b-3e08-4159-e536-f087b9ae80d7"
      },
      "execution_count": 30,
      "outputs": [
        {
          "output_type": "stream",
          "name": "stdout",
          "text": [
            "Paciente:  Luis | Fecha de nacimiento:  03-10-1990 | Medico:  melvin ortiz | Colegiado:  20157 | Fecha de la cita:  20-01-2023 | Hora de la cita:  10:30 | Tipo de consulta:  medicina general | Tratamiento:  2 pildoras de acetaminofen cada 6 horas |\n",
            "Paciente:  karen | Fecha de nacimiento:  03-10-1990 | Medico:  melvin ortiz | Colegiado:  8567 | Fecha de la cita:  19-01-2023 | Hora de la cita:  09:30 | Tipo de consulta:  medicina general | Tratamiento:  2 pildoras de acetaminofen cada 6 horas |\n",
            "Paciente:  Gerson Lopez | Fecha de nacimiento:  03-10-1990 | Medico:  melvin ortiz | Colegiado:  20156 | Fecha de la cita:  16-01-2023 | Hora de la cita:  11:30 | Tipo de consulta:  medicina general | Tratamiento:  2 pildoras de acetaminofen cada 6 horas |\n"
          ]
        }
      ]
    },
    {
      "cell_type": "markdown",
      "source": [
        "#Eliminacion de un nodo del medio de la lista"
      ],
      "metadata": {
        "id": "-DVHTvdk-9I6"
      }
    },
    {
      "cell_type": "code",
      "source": [
        "lista_d.eliminar(8567, \"19-01-2023\", \"09:30\")\n",
        "lista_d.recorrer()"
      ],
      "metadata": {
        "colab": {
          "base_uri": "https://localhost:8080/"
        },
        "id": "1A1H2uYG-_eS",
        "outputId": "ec5701ec-a1f0-4168-f394-4acb7b29d1a8"
      },
      "execution_count": 31,
      "outputs": [
        {
          "output_type": "stream",
          "name": "stdout",
          "text": [
            "Paciente:  Luis | Fecha de nacimiento:  03-10-1990 | Medico:  melvin ortiz | Colegiado:  20157 | Fecha de la cita:  20-01-2023 | Hora de la cita:  10:30 | Tipo de consulta:  medicina general | Tratamiento:  2 pildoras de acetaminofen cada 6 horas |\n",
            "Paciente:  Gerson Lopez | Fecha de nacimiento:  03-10-1990 | Medico:  melvin ortiz | Colegiado:  20156 | Fecha de la cita:  16-01-2023 | Hora de la cita:  11:30 | Tipo de consulta:  medicina general | Tratamiento:  2 pildoras de acetaminofen cada 6 horas |\n"
          ]
        }
      ]
    },
    {
      "cell_type": "markdown",
      "source": [
        "#Eliminar el primer nodo de la lista"
      ],
      "metadata": {
        "id": "fCnu5pf6_npc"
      }
    },
    {
      "cell_type": "code",
      "source": [
        "lista_d.eliminar(20157, \"20-01-2023\", \"10:30\")\n",
        "lista_d.recorrer()"
      ],
      "metadata": {
        "colab": {
          "base_uri": "https://localhost:8080/"
        },
        "id": "wsWX221I_se7",
        "outputId": "b7dfd9ea-4b83-4795-a377-4432b5004a7e"
      },
      "execution_count": 32,
      "outputs": [
        {
          "output_type": "stream",
          "name": "stdout",
          "text": [
            "Paciente:  Gerson Lopez | Fecha de nacimiento:  03-10-1990 | Medico:  melvin ortiz | Colegiado:  20156 | Fecha de la cita:  16-01-2023 | Hora de la cita:  11:30 | Tipo de consulta:  medicina general | Tratamiento:  2 pildoras de acetaminofen cada 6 horas |\n"
          ]
        }
      ]
    },
    {
      "cell_type": "markdown",
      "source": [
        "# Eliminar el último nodo de la lista"
      ],
      "metadata": {
        "id": "QUr59KgGABG6"
      }
    },
    {
      "cell_type": "code",
      "source": [
        "lista_d.eliminar(20156, \"16-01-2023\", \"11:30\")\n",
        "lista_d.recorrer()"
      ],
      "metadata": {
        "id": "chLYuVPhAE5S"
      },
      "execution_count": 33,
      "outputs": []
    },
    {
      "cell_type": "markdown",
      "source": [
        "# Eliminacion nodo a nodo de la lista"
      ],
      "metadata": {
        "id": "eme-jnRZA0Ac"
      }
    },
    {
      "cell_type": "code",
      "source": [
        "lista_d.eliminar(20157, \"20-01-2023\", \"10:30\")\n",
        "lista_d.recorrer()"
      ],
      "metadata": {
        "id": "mpF1hmPkA3DM"
      },
      "execution_count": 34,
      "outputs": []
    },
    {
      "cell_type": "code",
      "source": [
        "lista_d.eliminar(8567, \"19-01-2023\", \"09:30\")\n",
        "lista_d.recorrer()"
      ],
      "metadata": {
        "id": "-iDGW8jpA-Rk"
      },
      "execution_count": 35,
      "outputs": []
    },
    {
      "cell_type": "code",
      "source": [
        "lista_d.eliminar(20156, \"16-01-2023\", \"11:30\")\n",
        "lista_d.recorrer()"
      ],
      "metadata": {
        "id": "GFrSI9obBBSj"
      },
      "execution_count": 36,
      "outputs": []
    },
    {
      "cell_type": "markdown",
      "source": [
        "#MODIFICAR FECHA Y HORA DE LA CITA"
      ],
      "metadata": {
        "id": "pY3TD-x0QOJi"
      }
    },
    {
      "cell_type": "code",
      "source": [
        "lista_d.modificar(\"Gerson Lopez\", \"19-05-2002\", \"01:20\")\n",
        "lista_d.modificar(\"karen\", \"18-04-2001\", \"02:30\")\n",
        "lista_d.modificar(\"Luis\", \"17-03-2000\", \"03:40\")\n",
        "lista_d.recorrer()"
      ],
      "metadata": {
        "colab": {
          "base_uri": "https://localhost:8080/"
        },
        "id": "FomV3rPGQOe6",
        "outputId": "c287053d-4513-4add-bb56-72365d4d5c8f"
      },
      "execution_count": 39,
      "outputs": [
        {
          "output_type": "stream",
          "name": "stdout",
          "text": [
            "Paciente:  Luis | Fecha de nacimiento:  03-10-1990 | Medico:  melvin ortiz | Colegiado:  20157 | Fecha de la cita:  17-03-2000 | Hora de la cita:  03:40 | Tipo de consulta:  medicina general | Tratamiento:  2 pildoras de acetaminofen cada 6 horas |\n",
            "Paciente:  karen | Fecha de nacimiento:  03-10-1990 | Medico:  melvin ortiz | Colegiado:  8567 | Fecha de la cita:  18-04-2001 | Hora de la cita:  02:30 | Tipo de consulta:  medicina general | Tratamiento:  2 pildoras de acetaminofen cada 6 horas |\n",
            "Paciente:  Gerson Lopez | Fecha de nacimiento:  03-10-1990 | Medico:  melvin ortiz | Colegiado:  20156 | Fecha de la cita:  19-05-2002 | Hora de la cita:  01:20 | Tipo de consulta:  medicina general | Tratamiento:  2 pildoras de acetaminofen cada 6 horas |\n"
          ]
        }
      ]
    }
  ]
}