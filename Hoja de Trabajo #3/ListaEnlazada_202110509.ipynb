{
  "nbformat": 4,
  "nbformat_minor": 0,
  "metadata": {
    "colab": {
      "provenance": []
    },
    "kernelspec": {
      "name": "python3",
      "display_name": "Python 3"
    },
    "language_info": {
      "name": "python"
    }
  },
  "cells": [
    {
      "cell_type": "markdown",
      "source": [
        "Creamos la clase receta"
      ],
      "metadata": {
        "id": "IOSMTjiJfoxJ"
      }
    },
    {
      "cell_type": "code",
      "source": [
        "class receta:\n",
        "    #construir constructor\n",
        "    def __init__(self,  paciente, fecha_nac, doctor, colegiado, fecha_cita, hora_cita, tipo_consulta, tratamiento):\n",
        "        self.paciente = paciente\n",
        "        self.fecha_nac = fecha_nac\n",
        "        self.doctor = doctor\n",
        "        self.colegiado = colegiado\n",
        "        self.fecha_cita = fecha_cita\n",
        "        self.hora_cita = hora_cita\n",
        "        self.tipo_consulta = tipo_consulta\n",
        "        self.tratamiento = tratamiento"
      ],
      "metadata": {
        "id": "snlqjwjrfrYo"
      },
      "execution_count": 23,
      "outputs": []
    },
    {
      "cell_type": "markdown",
      "source": [
        "Creamos el nodo "
      ],
      "metadata": {
        "id": "_53Pk0hnftDI"
      }
    },
    {
      "cell_type": "code",
      "source": [
        "class nodo:\n",
        "    def __init__(self, receta = None, siguiente = None):\n",
        "        self.receta = receta\n",
        "        self.siguiente = siguiente"
      ],
      "metadata": {
        "id": "UjYuNvxlfx1g"
      },
      "execution_count": 24,
      "outputs": []
    },
    {
      "cell_type": "markdown",
      "source": [
        "Creamos la clase lista_enlazada"
      ],
      "metadata": {
        "id": "xk7ZuxsRf0Si"
      }
    },
    {
      "cell_type": "code",
      "source": [
        "class lista_enlazada:\n",
        "    def __init__(self):\n",
        "        self.primero = None\n",
        "    \n",
        "    def insertar(self, receta):\n",
        "        if self.primero is None:\n",
        "            self.primero = nodo(receta = receta)\n",
        "            return\n",
        "        actual = self.primero\n",
        "        while actual.siguiente: #es como tener actual.siguiente != None\n",
        "            actual = actual.siguiente\n",
        "        actual.siguiente = nodo(receta = receta)\n",
        "\n",
        "    def recorrer(self):\n",
        "        actual = self.primero\n",
        "        while actual: #es como tener actual != None\n",
        "            print(\"Paciente: \", actual.receta.paciente, \n",
        "            \"| Fecha de nacimiento: \", actual.receta.fecha_nac, \n",
        "            \"| Medico: \", actual.receta.doctor, \n",
        "            \"| Colegiado: \", actual.receta.colegiado, \n",
        "            \"| Fecha de la cita: \", actual.receta.fecha_cita, \n",
        "            \"| Hora de la cita: \", actual.receta.hora_cita, \n",
        "            \"| Tipo de consulta: \", actual.receta.tipo_consulta, \n",
        "            \"| Tratamiento: \", actual.receta.tratamiento, \"|\")\n",
        "            actual = actual.siguiente\n",
        "    \n",
        "    def eliminar(self, colegiado, fecha_cita, hora_cita):\n",
        "        actual = self.primero\n",
        "        anterior = None \n",
        "        while actual and actual.receta.colegiado != colegiado and actual.receta.fecha_cita != fecha_cita and actual.receta.hora_cita != hora_cita:\n",
        "            anterior = actual\n",
        "            actual = actual.siguiente\n",
        "        \n",
        "        if anterior is None:\n",
        "            self.primero = actual.siguiente\n",
        "            actual.siguiente = None\n",
        "        elif actual: #es como tener actual != None, no está vacío\n",
        "            anterior.siguiente = actual.siguiente\n",
        "            actual.siguiente = None\n",
        "\n",
        "    #Funcion para modificar fecha de cita y hora de cita\n",
        "    #buscar por medio de nombre del paciente\n",
        "    #enviar los parámetros a modificar, fecha y hora\n",
        "    def modificar(self,nombre_paciente,fecha_cita, hora_cita):\n",
        "        actual = self.primero\n",
        "        while actual and actual.receta.paciente != nombre_paciente:\n",
        "            actual = actual.siguiente\n",
        "        \n",
        "        if actual: #es como tener actual != None, no está vacío\n",
        "            actual.receta.fecha_cita = fecha_cita \n",
        "            actual.receta.hora_cita = hora_cita"
      ],
      "metadata": {
        "id": "a1DrAygcf8g_"
      },
      "execution_count": 25,
      "outputs": []
    },
    {
      "cell_type": "markdown",
      "source": [
        "Crear los objetos receta"
      ],
      "metadata": {
        "id": "kG_R8Eo6m0Ht"
      }
    },
    {
      "cell_type": "code",
      "source": [
        "r1 = receta(\"Gerson Lopez\", \"03-10-1990\", \"melvin ortiz\", 20156, \n",
        "\"16-01-2023\", \"11:30\", \"medicina general\", \"2 pildoras de acetaminofen cada 6 horas\")\n",
        "r2 = receta(\"karen\", \"03-10-1990\", \"melvin ortiz\", 8567, \n",
        "\"19-01-2023\", \"09:30\", \"medicina general\", \"2 pildoras de acetaminofen cada 6 horas\")\n",
        "r3 = receta(\"Luis\", \"03-10-1990\", \"melvin ortiz\", 20157, \n",
        "\"20-01-2023\", \"10:30\", \"medicina general\", \"2 pildoras de acetaminofen cada 6 horas\")"
      ],
      "metadata": {
        "id": "G6vfpIA_m3bE"
      },
      "execution_count": 26,
      "outputs": []
    },
    {
      "cell_type": "code",
      "source": [
        "lista_e = lista_enlazada()\n",
        "lista_e.insertar(r1)\n",
        "lista_e.insertar(r2)\n",
        "lista_e.insertar(r3)\n",
        "\n",
        "#recorrer \n",
        "lista_e.recorrer()"
      ],
      "metadata": {
        "colab": {
          "base_uri": "https://localhost:8080/"
        },
        "id": "zg7CgNDJm-9s",
        "outputId": "6c48907a-72b3-47f6-ec29-c706c9fb4dc3"
      },
      "execution_count": 27,
      "outputs": [
        {
          "output_type": "stream",
          "name": "stdout",
          "text": [
            "Paciente:  Gerson Lopez | Fecha de nacimiento:  03-10-1990 | Medico:  melvin ortiz | Colegiado:  20156 | Fecha de la cita:  16-01-2023 | Hora de la cita:  11:30 | Tipo de consulta:  medicina general | Tratamiento:  2 pildoras de acetaminofen cada 6 horas |\n",
            "Paciente:  karen | Fecha de nacimiento:  03-10-1990 | Medico:  melvin ortiz | Colegiado:  8567 | Fecha de la cita:  19-01-2023 | Hora de la cita:  09:30 | Tipo de consulta:  medicina general | Tratamiento:  2 pildoras de acetaminofen cada 6 horas |\n",
            "Paciente:  Luis | Fecha de nacimiento:  03-10-1990 | Medico:  melvin ortiz | Colegiado:  20157 | Fecha de la cita:  20-01-2023 | Hora de la cita:  10:30 | Tipo de consulta:  medicina general | Tratamiento:  2 pildoras de acetaminofen cada 6 horas |\n"
          ]
        }
      ]
    },
    {
      "cell_type": "markdown",
      "source": [
        "Eliminamos un paciente"
      ],
      "metadata": {
        "id": "vrswzxksr5FL"
      }
    },
    {
      "cell_type": "code",
      "source": [
        "lista_e.eliminar(20157, \"20-01-2023\", \"10:30\")"
      ],
      "metadata": {
        "id": "0p8POmgpnN0s"
      },
      "execution_count": 28,
      "outputs": []
    },
    {
      "cell_type": "code",
      "source": [
        "lista_e.recorrer()"
      ],
      "metadata": {
        "colab": {
          "base_uri": "https://localhost:8080/"
        },
        "id": "VkxK-tH4nRvM",
        "outputId": "102ea875-7e7d-45fb-dfbd-64d408892506"
      },
      "execution_count": 29,
      "outputs": [
        {
          "output_type": "stream",
          "name": "stdout",
          "text": [
            "Paciente:  Gerson Lopez | Fecha de nacimiento:  03-10-1990 | Medico:  melvin ortiz | Colegiado:  20156 | Fecha de la cita:  16-01-2023 | Hora de la cita:  11:30 | Tipo de consulta:  medicina general | Tratamiento:  2 pildoras de acetaminofen cada 6 horas |\n",
            "Paciente:  karen | Fecha de nacimiento:  03-10-1990 | Medico:  melvin ortiz | Colegiado:  8567 | Fecha de la cita:  19-01-2023 | Hora de la cita:  09:30 | Tipo de consulta:  medicina general | Tratamiento:  2 pildoras de acetaminofen cada 6 horas |\n"
          ]
        }
      ]
    },
    {
      "cell_type": "markdown",
      "source": [
        "Modificamos la fecha y hora de cita de un paciente "
      ],
      "metadata": {
        "id": "WqCRGo9QsBBD"
      }
    },
    {
      "cell_type": "code",
      "source": [
        "lista_e.modificar(\"Gerson Lopez\", \"21-07-2010\", \"16:00\") \n",
        "lista_e.recorrer()\n"
      ],
      "metadata": {
        "colab": {
          "base_uri": "https://localhost:8080/"
        },
        "id": "aULhO9cQro3D",
        "outputId": "56ab956b-3277-478c-cc9e-561df3032f53"
      },
      "execution_count": 30,
      "outputs": [
        {
          "output_type": "stream",
          "name": "stdout",
          "text": [
            "Paciente:  Gerson Lopez | Fecha de nacimiento:  03-10-1990 | Medico:  melvin ortiz | Colegiado:  20156 | Fecha de la cita:  21-07-2010 | Hora de la cita:  16:00 | Tipo de consulta:  medicina general | Tratamiento:  2 pildoras de acetaminofen cada 6 horas |\n",
            "Paciente:  karen | Fecha de nacimiento:  03-10-1990 | Medico:  melvin ortiz | Colegiado:  8567 | Fecha de la cita:  19-01-2023 | Hora de la cita:  09:30 | Tipo de consulta:  medicina general | Tratamiento:  2 pildoras de acetaminofen cada 6 horas |\n"
          ]
        }
      ]
    }
  ]
}