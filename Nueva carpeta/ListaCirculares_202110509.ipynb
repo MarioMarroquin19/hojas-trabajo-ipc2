{
  "nbformat": 4,
  "nbformat_minor": 0,
  "metadata": {
    "colab": {
      "provenance": []
    },
    "kernelspec": {
      "name": "python3",
      "display_name": "Python 3"
    },
    "language_info": {
      "name": "python"
    }
  },
  "cells": [
    {
      "cell_type": "markdown",
      "source": [
        "Lista circular "
      ],
      "metadata": {
        "id": "-57zfBD9yvwi"
      }
    },
    {
      "cell_type": "code",
      "source": [
        "class receta:\n",
        "    #construir constructor\n",
        "    def __init__(self,  paciente, fecha_nac, doctor, colegiado, fecha_cita, hora_cita, tipo_consulta, tratamiento):\n",
        "        self.paciente = paciente\n",
        "        self.fecha_nac = fecha_nac\n",
        "        self.doctor = doctor\n",
        "        self.colegiado = colegiado\n",
        "        self.fecha_cita = fecha_cita\n",
        "        self.hora_cita = hora_cita\n",
        "        self.tipo_consulta = tipo_consulta\n",
        "        self.tratamiento = tratamiento"
      ],
      "metadata": {
        "id": "AaWNmy6OyxEh"
      },
      "execution_count": 1,
      "outputs": []
    },
    {
      "cell_type": "markdown",
      "source": [
        "Clase nodo\n"
      ],
      "metadata": {
        "id": "WFhpJffAy2yp"
      }
    },
    {
      "cell_type": "code",
      "source": [
        "class nodo:\n",
        "    def __init__(self, receta = None, siguiente = None):\n",
        "        self.receta = receta\n",
        "        self.siguiente = siguiente"
      ],
      "metadata": {
        "id": "wa8-omujy4hy"
      },
      "execution_count": 2,
      "outputs": []
    },
    {
      "cell_type": "markdown",
      "source": [
        "Definicion de la clase lista circular "
      ],
      "metadata": {
        "id": "HJG_yGCyy8Yp"
      }
    },
    {
      "cell_type": "code",
      "source": [
        "class lista_circular:\n",
        "  def __init__(self):\n",
        "    self.primero = None\n",
        "\n",
        "  def insertar(self, receta):\n",
        "    if self.primero is None:\n",
        "      self.primero = nodo(receta = receta)\n",
        "      self.primero.siguiente = self.primero\n",
        "    else:\n",
        "      actual = nodo(receta = receta, siguiente = self.primero.siguiente)\n",
        "      self.primero.siguiente = actual\n",
        "    \n",
        "  def recorrer(self):\n",
        "    if self.primero is None:\n",
        "      return\n",
        "    actual = self.primero\n",
        "    print(\"Paciente: \", actual.receta.paciente, \n",
        "          \"| Fecha de nacimiento: \", actual.receta.fecha_nac, \n",
        "          \"| Medico: \", actual.receta.doctor, \n",
        "          \"| Colegiado: \", actual.receta.colegiado, \n",
        "          \"| Fecha de la cita: \", actual.receta.fecha_cita, \n",
        "          \"| Hora de la cita: \", actual.receta.hora_cita, \n",
        "          \"| Tipo de consulta: \", actual.receta.tipo_consulta, \n",
        "          \"| Tratamiento: \", actual.receta.tratamiento, \"|\")\n",
        "    while actual.siguiente != self.primero:\n",
        "      actual = actual.siguiente\n",
        "      print(\"Paciente: \", actual.receta.paciente, \n",
        "            \"| Fecha de nacimiento: \", actual.receta.fecha_nac, \n",
        "            \"| Medico: \", actual.receta.doctor, \n",
        "            \"| Colegiado: \", actual.receta.colegiado, \n",
        "            \"| Fecha de la cita: \", actual.receta.fecha_cita, \n",
        "            \"| Hora de la cita: \", actual.receta.hora_cita, \n",
        "            \"| Tipo de consulta: \", actual.receta.tipo_consulta, \n",
        "            \"| Tratamiento: \", actual.receta.tratamiento, \"|\")\n",
        "\n",
        "  def eliminar(self, colegiado, fecha_cita, hora_cita):\n",
        "    actual = self.primero\n",
        "    anterior = None\n",
        "    no_encontrado = False\n",
        "\n",
        "    while actual != None and actual.receta.colegiado != colegiado and actual.receta.fecha_cita != fecha_cita and actual.receta.hora_cita != hora_cita:\n",
        "      anterior = actual\n",
        "      actual = actual.siguiente\n",
        "      \n",
        "      if actual == self.primero:\n",
        "        no_encontrado = True\n",
        "        print('No encontrado')\n",
        "        break\n",
        "\n",
        "    if not no_encontrado:\n",
        "      if anterior is not None:\n",
        "        anterior.siguiente = actual.siguiente\n",
        "        actual.siguiente = None\n",
        "      else:\n",
        "        while actual.siguiente != self.primero:\n",
        "          actual = actual.siguiente\n",
        "        actual.siguiente = self.primero.siguiente\n",
        "        self.primero = self.primero.siguiente\n",
        "  \n",
        "  #FUNCION MODIFICAR FECHA Y HORA DE LA CITA\n",
        "  def modificar(self, nombre_paciente, fecha_cita, hora_cita):\n",
        "    actual = self.primero\n",
        "    anterior = None\n",
        "    no_encontrado = False\n",
        "\n",
        "    while actual != None and actual.receta.paciente != nombre_paciente:\n",
        "      anterior = actual\n",
        "      actual = actual.siguiente\n",
        "      \n",
        "      if actual == self.primero:\n",
        "        no_encontrado = True\n",
        "        print('No encontrado')\n",
        "        break\n",
        "    \n",
        "    if not no_encontrado:\n",
        "      actual.receta.fecha_cita = fecha_cita\n",
        "      actual.receta.hora_cita = hora_cita\n",
        "        \n",
        "\n"
      ],
      "metadata": {
        "id": "HaIIRXGgzTVZ"
      },
      "execution_count": 3,
      "outputs": []
    },
    {
      "cell_type": "markdown",
      "source": [
        "creacion de objeto receta"
      ],
      "metadata": {
        "id": "jN3Z09OA1oyi"
      }
    },
    {
      "cell_type": "code",
      "source": [
        "r1 = receta(\"Gerson Lopez\", \"03-10-1990\", \"melvin ortiz\", 20156, \n",
        "\"16-01-2023\", \"11:30\", \"medicina general\", \"2 pildoras de acetaminofen cada 6 horas\")\n",
        "r2 = receta(\"karen\", \"03-10-1990\", \"melvin ortiz\", 8567, \n",
        "\"19-01-2023\", \"09:30\", \"medicina general\", \"2 pildoras de acetaminofen cada 6 horas\")\n",
        "r3 = receta(\"Luis\", \"03-10-1990\", \"melvin ortiz\", 20157, \n",
        "\"20-01-2023\", \"10:30\", \"medicina general\", \"2 pildoras de acetaminofen cada 6 horas\")"
      ],
      "metadata": {
        "id": "pyF9vqLk1sOC"
      },
      "execution_count": 4,
      "outputs": []
    },
    {
      "cell_type": "markdown",
      "source": [
        "inserción"
      ],
      "metadata": {
        "id": "xg5ZeeYv1thr"
      }
    },
    {
      "cell_type": "code",
      "source": [
        "lista_c = lista_circular()\n",
        "lista_c.insertar(r1)\n",
        "lista_c.insertar(r2)\n",
        "lista_c.insertar(r3)"
      ],
      "metadata": {
        "id": "GA4ivRfG1v15"
      },
      "execution_count": 5,
      "outputs": []
    },
    {
      "cell_type": "markdown",
      "source": [
        "Recorrer lista"
      ],
      "metadata": {
        "id": "8htl8UjsxKja"
      }
    },
    {
      "cell_type": "code",
      "source": [
        "lista_c.recorrer()"
      ],
      "metadata": {
        "colab": {
          "base_uri": "https://localhost:8080/"
        },
        "id": "hLdgmiB3xO3q",
        "outputId": "47f7d616-4217-4221-9a42-a3834c54ba2e"
      },
      "execution_count": 6,
      "outputs": [
        {
          "output_type": "stream",
          "name": "stdout",
          "text": [
            "Paciente:  Gerson Lopez | Fecha de nacimiento:  03-10-1990 | Medico:  melvin ortiz | Colegiado:  20156 | Fecha de la cita:  16-01-2023 | Hora de la cita:  11:30 | Tipo de consulta:  medicina general | Tratamiento:  2 pildoras de acetaminofen cada 6 horas |\n",
            "Paciente:  Luis | Fecha de nacimiento:  03-10-1990 | Medico:  melvin ortiz | Colegiado:  20157 | Fecha de la cita:  20-01-2023 | Hora de la cita:  10:30 | Tipo de consulta:  medicina general | Tratamiento:  2 pildoras de acetaminofen cada 6 horas |\n",
            "Paciente:  karen | Fecha de nacimiento:  03-10-1990 | Medico:  melvin ortiz | Colegiado:  8567 | Fecha de la cita:  19-01-2023 | Hora de la cita:  09:30 | Tipo de consulta:  medicina general | Tratamiento:  2 pildoras de acetaminofen cada 6 horas |\n"
          ]
        }
      ]
    },
    {
      "cell_type": "markdown",
      "source": [
        "eliminar un nodo de la lista"
      ],
      "metadata": {
        "id": "tcsKscE-Br44"
      }
    },
    {
      "cell_type": "code",
      "source": [
        "lista_c.eliminar(8567,\"29-01-2023\",\"09:30\")\n",
        "lista_c.recorrer()"
      ],
      "metadata": {
        "colab": {
          "base_uri": "https://localhost:8080/"
        },
        "id": "K1WS-81HBuII",
        "outputId": "735ff0cc-0ad4-4e53-f4ae-2038996caadf"
      },
      "execution_count": 9,
      "outputs": [
        {
          "output_type": "stream",
          "name": "stdout",
          "text": [
            "Paciente:  Luis | Fecha de nacimiento:  03-10-1990 | Medico:  melvin ortiz | Colegiado:  20157 | Fecha de la cita:  20-01-2023 | Hora de la cita:  10:30 | Tipo de consulta:  medicina general | Tratamiento:  2 pildoras de acetaminofen cada 6 horas |\n"
          ]
        }
      ]
    },
    {
      "cell_type": "code",
      "source": [
        "lista_c.eliminar(20156,\"16-01-2023\",\"11:30\")\n",
        "lista_c.recorrer()"
      ],
      "metadata": {
        "colab": {
          "base_uri": "https://localhost:8080/"
        },
        "id": "srJtl_clCSpC",
        "outputId": "d15e91b6-0aa0-4221-8172-3e14184dcad0"
      },
      "execution_count": 8,
      "outputs": [
        {
          "output_type": "stream",
          "name": "stdout",
          "text": [
            "Paciente:  Luis | Fecha de nacimiento:  03-10-1990 | Medico:  melvin ortiz | Colegiado:  20157 | Fecha de la cita:  20-01-2023 | Hora de la cita:  10:30 | Tipo de consulta:  medicina general | Tratamiento:  2 pildoras de acetaminofen cada 6 horas |\n",
            "Paciente:  karen | Fecha de nacimiento:  03-10-1990 | Medico:  melvin ortiz | Colegiado:  8567 | Fecha de la cita:  01-01-2001 | Hora de la cita:  20:30 | Tipo de consulta:  medicina general | Tratamiento:  2 pildoras de acetaminofen cada 6 horas |\n"
          ]
        }
      ]
    },
    {
      "cell_type": "markdown",
      "source": [
        "Modificamos la fecha y hora de la cita "
      ],
      "metadata": {
        "id": "inhdVylt8M1v"
      }
    },
    {
      "cell_type": "code",
      "source": [
        "lista_c.modificar(\"Gerson Lopez\",\"19-05-2020\",\"05:30\")\n",
        "lista_c.modificar(\"karen\",\"01-01-2001\",\"20:30\")\n",
        "lista_c.recorrer()"
      ],
      "metadata": {
        "colab": {
          "base_uri": "https://localhost:8080/"
        },
        "id": "tPAoKVRp8U63",
        "outputId": "cc177efa-bc30-434a-e49c-1118d961eed7"
      },
      "execution_count": 7,
      "outputs": [
        {
          "output_type": "stream",
          "name": "stdout",
          "text": [
            "Paciente:  Gerson Lopez | Fecha de nacimiento:  03-10-1990 | Medico:  melvin ortiz | Colegiado:  20156 | Fecha de la cita:  19-05-2020 | Hora de la cita:  05:30 | Tipo de consulta:  medicina general | Tratamiento:  2 pildoras de acetaminofen cada 6 horas |\n",
            "Paciente:  Luis | Fecha de nacimiento:  03-10-1990 | Medico:  melvin ortiz | Colegiado:  20157 | Fecha de la cita:  20-01-2023 | Hora de la cita:  10:30 | Tipo de consulta:  medicina general | Tratamiento:  2 pildoras de acetaminofen cada 6 horas |\n",
            "Paciente:  karen | Fecha de nacimiento:  03-10-1990 | Medico:  melvin ortiz | Colegiado:  8567 | Fecha de la cita:  01-01-2001 | Hora de la cita:  20:30 | Tipo de consulta:  medicina general | Tratamiento:  2 pildoras de acetaminofen cada 6 horas |\n"
          ]
        }
      ]
    }
  ]
}